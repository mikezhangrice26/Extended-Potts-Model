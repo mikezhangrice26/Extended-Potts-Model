{
 "cells": [
  {
   "cell_type": "code",
   "execution_count": 156,
   "id": "43367891",
   "metadata": {},
   "outputs": [],
   "source": [
    "import numpy as np #Importing packages\n",
    "from numpy.linalg import matrix_power"
   ]
  },
  {
   "cell_type": "code",
   "execution_count": 165,
   "id": "162b5395",
   "metadata": {},
   "outputs": [],
   "source": [
    "#Variables and constants\n",
    "N=2\n",
    "p=5\n",
    "e=np.e\n",
    "pi=np.pi\n",
    "K11, K12, K21, K22=1, 1, 1, 1\n",
    "omega=e**(2*pi*1j/p)"
   ]
  },
  {
   "cell_type": "code",
   "execution_count": 166,
   "id": "a921da6d",
   "metadata": {},
   "outputs": [
    {
     "name": "stdout",
     "output_type": "stream",
     "text": [
      "[[1.]]\n"
     ]
    }
   ],
   "source": [
    "#Important matrix methods\n",
    "\n",
    "def cosine(angle):\n",
    "    return np.cos(angle)\n",
    "def id(p):\n",
    "    return np.identity(p)\n",
    "def id_chain(n, p):\n",
    "    return np.identity(p**n)\n",
    "print(id(1))"
   ]
  },
  {
   "cell_type": "code",
   "execution_count": 167,
   "id": "83863e5e",
   "metadata": {},
   "outputs": [],
   "source": [
    "def matrix_chain(n_identity_anterior, hamiltonian, n_identity_posterior):\n",
    "    if n_identity_anterior!=0 and n_identity_posterior!=0:\n",
    "        first_compute=np.tensordot(id_chain(n_identity_anterior, p), hamiltonian, axes=0) \n",
    "        return np.tensordot(first_compute, id_chain(n_identity_anterior, p), axes=0)\n",
    "    elif n_identity_anterior==0:\n",
    "        return np.tensordot(hamiltonian,id_chain(n_identity_posterior, p) , axes=0)\n",
    "    else:\n",
    "        return np.tensordot(id_chain(n_identity_anterior, p), hamiltonian , axes=0)"
   ]
  },
  {
   "cell_type": "code",
   "execution_count": 168,
   "id": "27f82ddc",
   "metadata": {},
   "outputs": [
    {
     "name": "stdout",
     "output_type": "stream",
     "text": [
      "[[ 1.        +0.j          0.        +0.j          0.        +0.j\n",
      "   0.        +0.j          0.        +0.j        ]\n",
      " [ 0.        +0.j          0.30901699+0.95105652j  0.        +0.j\n",
      "   0.        +0.j          0.        +0.j        ]\n",
      " [ 0.        +0.j          0.        +0.j         -0.80901699+0.58778525j\n",
      "   0.        +0.j          0.        +0.j        ]\n",
      " [ 0.        +0.j          0.        +0.j          0.        +0.j\n",
      "  -0.80901699-0.58778525j  0.        +0.j        ]\n",
      " [ 0.        +0.j          0.        +0.j          0.        +0.j\n",
      "   0.        +0.j          0.30901699-0.95105652j]]\n"
     ]
    }
   ],
   "source": [
    "def umaker(p):\n",
    "    matrix=np.zeros((p, p), dtype=complex)\n",
    "    for i in range(p):\n",
    "        matrix[i][i]=omega**i\n",
    "    return matrix\n",
    "    \n",
    "def vmaker(p):\n",
    "    matrix=id(p)\n",
    "    for i in range(p):\n",
    "        matrix[i]=(np.append(matrix[i][p-1], matrix[i][:p-1]))\n",
    "    return matrix\n",
    "print(umaker(p))"
   ]
  },
  {
   "cell_type": "code",
   "execution_count": null,
   "id": "50795c58",
   "metadata": {},
   "outputs": [],
   "source": []
  },
  {
   "cell_type": "code",
   "execution_count": null,
   "id": "c989271d",
   "metadata": {},
   "outputs": [],
   "source": []
  },
  {
   "cell_type": "code",
   "execution_count": 169,
   "id": "9375d720",
   "metadata": {},
   "outputs": [],
   "source": [
    "def hamiltonian(n, p):\n",
    "    matrix=np.zeros((p**n, p**n), dtype=complex)\n",
    "    for site in range(n-1):\n",
    "        localU=np.zeros((p**n, p**n), dtype=complex)\n",
    "        for spin in range(p):\n",
    "            m1=matrix_chain(site+1, umaker(p), n-site-2)\n",
    "            m2=matrix_chain(site, np.transpose(np.conjugate(umaker(p))), n-site-1)\n",
    "            Uchain=np.reshape(matrix_power(np.multiply(m1, m2), spin), (p**n, p**n))\n",
    "            localU+=((K11+2*K12*cosine(2*pi*spin/p))*Uchain)\n",
    "        matrix+=localU\n",
    "    for site in range(n):\n",
    "        localV=np.zeros((p**n, p**n), dtype=complex)\n",
    "        for spin in range(p):\n",
    "            Vchain=np.reshape(matrix_power((matrix_chain(site, vmaker(p), n-site-1)), spin), (p**n, p**n))\n",
    "            localV+=((K21+2*K22)*Vchain)\n",
    "        matrix+=localV\n",
    "    return matrix"
   ]
  },
  {
   "cell_type": "code",
   "execution_count": 170,
   "id": "f1309359",
   "metadata": {},
   "outputs": [],
   "source": [
    "matrix=hamiltonian(N, p)"
   ]
  },
  {
   "cell_type": "code",
   "execution_count": 171,
   "id": "e8920dc3",
   "metadata": {},
   "outputs": [
    {
     "name": "stdout",
     "output_type": "stream",
     "text": [
      "[ 8.65800281e+01-3.18933999e-31j -4.15800281e+01+1.19899352e-30j\n",
      "  8.09016994e+00+1.18697057e-30j  8.09016994e+00+3.15267970e-16j\n",
      " -3.09016994e+00+3.88578059e-16j -3.09016994e+00-9.36750677e-17j\n",
      " -4.75287269e-15+1.93189081e-16j  5.21154810e-16-1.62776001e-15j\n",
      "  4.26152329e-16+1.57333866e-15j -5.84962040e-16+1.36412353e-17j\n",
      " -2.94327162e-17+1.49179149e-16j  9.85916634e-16-3.67565381e-17j\n",
      " -2.52582248e-32-1.10832232e-31j  3.66475919e-32+3.36823700e-32j\n",
      " -3.83308236e-32-4.10806980e-33j  1.36897791e-32-2.42749447e-32j\n",
      "  3.79746924e-47+2.03344375e-48j -9.57983734e-48-8.36039800e-48j\n",
      " -4.74176976e-49+2.28136314e-48j -4.26036903e-49+5.09399879e-49j\n",
      " -1.96067439e-50-1.02838067e-50j  4.11821637e-65+5.87893697e-65j\n",
      " -1.63079054e-66-1.44619759e-67j  6.47477688e-83-1.23671813e-82j\n",
      " -3.67655501e-98+4.33927033e-98j]\n"
     ]
    }
   ],
   "source": [
    "print(np.linalg.eig(matrix)[0])"
   ]
  },
  {
   "cell_type": "code",
   "execution_count": null,
   "id": "b16c12a3",
   "metadata": {},
   "outputs": [],
   "source": []
  }
 ],
 "metadata": {
  "kernelspec": {
   "display_name": "Python 3 (ipykernel)",
   "language": "python",
   "name": "python3"
  },
  "language_info": {
   "codemirror_mode": {
    "name": "ipython",
    "version": 3
   },
   "file_extension": ".py",
   "mimetype": "text/x-python",
   "name": "python",
   "nbconvert_exporter": "python",
   "pygments_lexer": "ipython3",
   "version": "3.9.12"
  }
 },
 "nbformat": 4,
 "nbformat_minor": 5
}
