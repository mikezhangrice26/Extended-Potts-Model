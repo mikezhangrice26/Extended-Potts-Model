{
 "cells": [
  {
   "cell_type": "code",
   "execution_count": 9,
   "id": "43367891",
   "metadata": {},
   "outputs": [],
   "source": [
    "import numpy as np #Importing packages\n",
    "from numpy.linalg import matrix_power\n",
    "from matplotlib import pyplot as plt "
   ]
  },
  {
   "cell_type": "code",
   "execution_count": 136,
   "id": "162b5395",
   "metadata": {},
   "outputs": [],
   "source": [
    "#Variables and constants\n",
    "N=3\n",
    "p=4\n",
    "e=np.e\n",
    "pi=np.pi\n",
    "K11, K12, K21, K22=1, 1, 1, 1\n",
    "omega=e**(2*pi*1j/p)"
   ]
  },
  {
   "cell_type": "code",
   "execution_count": 137,
   "id": "a921da6d",
   "metadata": {},
   "outputs": [
    {
     "name": "stdout",
     "output_type": "stream",
     "text": [
      "[[1.]]\n"
     ]
    }
   ],
   "source": [
    "#Important matrix methods\n",
    "\n",
    "def cosine(angle):\n",
    "    return np.cos(angle)\n",
    "def id(p):\n",
    "    return np.identity(p)\n",
    "def id_chain(n, p):\n",
    "    return np.identity(p**n)\n",
    "print(id(1))"
   ]
  },
  {
   "cell_type": "code",
   "execution_count": 138,
   "id": "83863e5e",
   "metadata": {},
   "outputs": [
    {
     "name": "stdout",
     "output_type": "stream",
     "text": [
      "(4, 4, 4, 4, 4, 4)\n"
     ]
    }
   ],
   "source": [
    "def matrix_chain(n_identity_anterior, hamiltonian, n_identity_posterior):\n",
    "    if n_identity_anterior!=0 and n_identity_posterior!=0:\n",
    "        first_compute=np.tensordot(id_chain(n_identity_anterior, p), hamiltonian, axes=0) \n",
    "        return np.tensordot(first_compute, id_chain(n_identity_posterior, p), axes=0)\n",
    "    elif n_identity_anterior==0:\n",
    "        return np.tensordot(hamiltonian,id_chain(n_identity_posterior, p) , axes=0)\n",
    "    else:\n",
    "        return np.tensordot(id_chain(n_identity_anterior, p), hamiltonian , axes=0)\n",
    "print(np.shape(matrix_chain(1, umaker(p), 1)))"
   ]
  },
  {
   "cell_type": "code",
   "execution_count": 139,
   "id": "27f82ddc",
   "metadata": {},
   "outputs": [],
   "source": [
    "def umaker(p):\n",
    "    matrix=np.zeros((p, p), dtype=complex)\n",
    "    for i in range(p):\n",
    "        matrix[i][i]=omega**i\n",
    "    return matrix\n",
    "    \n",
    "def vmaker(p):\n",
    "    matrix=id(p)\n",
    "    for i in range(p):\n",
    "        matrix[i]=(np.append(matrix[i][p-1], matrix[i][:p-1]))\n",
    "    return matrix"
   ]
  },
  {
   "cell_type": "code",
   "execution_count": 140,
   "id": "50795c58",
   "metadata": {},
   "outputs": [],
   "source": [
    "def eigen_plot(l):\n",
    "    for i in l:\n",
    "        i=np.real(i)\n",
    "    l=np.sort(l)\n",
    "    plt.title(\"Eigenvalue Plot\") \n",
    "    plt.xlabel(\"Number of eigenstates\") \n",
    "    plt.ylabel(\"Eigenvalue\") \n",
    "    plot=plt.plot(l, 'ob')\n",
    "    return plot"
   ]
  },
  {
   "cell_type": "code",
   "execution_count": null,
   "id": "c989271d",
   "metadata": {},
   "outputs": [],
   "source": []
  },
  {
   "cell_type": "code",
   "execution_count": 141,
   "id": "9375d720",
   "metadata": {},
   "outputs": [],
   "source": [
    "def hamiltonian(n, p):\n",
    "    matrix=np.zeros((p**n, p**n), dtype=complex)\n",
    "    for site in range(n-1):\n",
    "        localU=np.zeros((p**n, p**n), dtype=complex)\n",
    "        for spin in range(p):\n",
    "            m1=np.reshape(matrix_chain(site+1, umaker(p), n-site-2), (p**n, p**n))\n",
    "            m2=np.reshape(matrix_chain(site, np.transpose(np.conjugate(umaker(p))), n-site-1), (p**n, p**n))\n",
    "            Uchain=np.reshape(matrix_power(np.multiply(m1, m2), spin), (p**n, p**n))\n",
    "            localU+=((K11+2*K12*cosine(2*pi*spin/p))*Uchain)\n",
    "        matrix+=localU\n",
    "    for site in range(n):\n",
    "        localV=np.zeros((p**n, p**n), dtype=complex)\n",
    "        for spin in range(p):\n",
    "            Vchain=np.reshape(matrix_power((matrix_chain(site, vmaker(p), n-site-1)), spin), (p**n, p**n))\n",
    "            localV+=((K21+2*K22)*Vchain)\n",
    "        matrix+=localV\n",
    "    return matrix\n",
    "def hamiltonian_u(n, p):\n",
    "    matrix=np.zeros((p**n, p**n), dtype=complex)\n",
    "    for site in range(n-1):\n",
    "        localU=np.zeros((p**n, p**n), dtype=complex)\n",
    "        for spin in range(p):\n",
    "            m1=np.reshape(matrix_chain(site+1, umaker(p), n-site-2), (p**n, p**n))\n",
    "            m2=np.reshape(matrix_chain(site, np.transpose(np.conjugate(umaker(p))), n-site-1), (p**n, p**n))\n",
    "            Uchain=np.reshape(matrix_power(np.multiply(m1, m2), spin), (p**n, p**n))\n",
    "            localU+=((K11+2*K12*cosine(2*pi*spin/p))*Uchain)\n",
    "        matrix+=localU\n",
    "    return matrix\n",
    "def hamiltonian_v(n, p):\n",
    "    matrix=np.zeros((p**n, p**n), dtype=complex)\n",
    "    for site in range(n):\n",
    "        localV=np.zeros((p**n, p**n), dtype=complex)\n",
    "        for spin in range(p):\n",
    "            Vchain=np.reshape(matrix_power((matrix_chain(site, vmaker(p), n-site-1)), spin), (p**n, p**n))\n",
    "            localV+=((K21+2*K22)*Vchain)\n",
    "        matrix+=localV\n",
    "    return matrix"
   ]
  },
  {
   "cell_type": "code",
   "execution_count": 144,
   "id": "f1309359",
   "metadata": {},
   "outputs": [],
   "source": [
    "matrix=hamiltonian_v(N, p)"
   ]
  },
  {
   "cell_type": "code",
   "execution_count": 145,
   "id": "e8920dc3",
   "metadata": {
    "scrolled": true
   },
   "outputs": [
    {
     "name": "stdout",
     "output_type": "stream",
     "text": [
      "[<matplotlib.lines.Line2D object at 0x7f879944f0a0>]\n"
     ]
    },
    {
     "name": "stderr",
     "output_type": "stream",
     "text": [
      "/Users/mikezhang/opt/anaconda3/lib/python3.9/site-packages/matplotlib/cbook/__init__.py:1298: ComplexWarning: Casting complex values to real discards the imaginary part\n",
      "  return np.asarray(x, float)\n"
     ]
    },
    {
     "data": {
      "image/png": "[encoded data removed]",
      "text/plain": [
       "<Figure size 432x288 with 1 Axes>"
      ]
     },
     "metadata": {
      "needs_background": "light"
     },
     "output_type": "display_data"
    }
   ],
   "source": [
    "eigenvalues=np.linalg.eig(matrix)[0]\n",
    "print(eigen_plot(eigenvalues))"
   ]
  },
  {
   "cell_type": "code",
   "execution_count": null,
   "id": "b16c12a3",
   "metadata": {},
   "outputs": [],
   "source": []
  },
  {
   "cell_type": "code",
   "execution_count": null,
   "id": "b7b5b783",
   "metadata": {},
   "outputs": [],
   "source": []
  },
  {
   "cell_type": "code",
   "execution_count": null,
   "id": "3d42ee6a",
   "metadata": {},
   "outputs": [],
   "source": []
  }
 ],
 "metadata": {
  "kernelspec": {
   "display_name": "Python 3 (ipykernel)",
   "language": "python",
   "name": "python3"
  },
  "language_info": {
   "codemirror_mode": {
    "name": "ipython",
    "version": 3
   },
   "file_extension": ".py",
   "mimetype": "text/x-python",
   "name": "python",
   "nbconvert_exporter": "python",
   "pygments_lexer": "ipython3",
   "version": "3.9.12"
  }
 },
 "nbformat": 4,
 "nbformat_minor": 5
}
